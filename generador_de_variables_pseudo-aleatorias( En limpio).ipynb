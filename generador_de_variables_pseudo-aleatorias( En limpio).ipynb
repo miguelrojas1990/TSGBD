{
 "cells": [
  {
   "cell_type": "markdown",
   "id": "6af7acdd",
   "metadata": {},
   "source": [
    "# Generador de l'ecuyer"
   ]
  },
  {
   "cell_type": "markdown",
   "id": "ac86fcee",
   "metadata": {},
   "source": [
    "Imagina que quieres crear una lista de números aleatorios, pero no tienes ningún dado o moneda para tirar y obtener un resultado aleatorio. En su lugar, puedes usar un programa de ordenador que genera números \"pseudoaleatorios\". Estos números no son realmente aleatorios, pero pueden parecerlo si se hacen correctamente.\n",
    "\n",
    "El generador de L'Ecuyer es una manera de generar números pseudoaleatorios. Utiliza dos fórmulas matemáticas para producir una lista de números que parecen aleatorios. Las fórmulas son como un \"juego matemático\" que usa dos números especiales llamados \"semillas\" para crear una serie de números. Cada número generado se calcula a partir del número anterior.\n",
    "\n",
    "Los generadores lineales congruentes son un tipo de fórmula que se utiliza en el generador de L'Ecuyer. Una fórmula lineal congruente es como un \"truco matemático\" que toma un número inicial (la semilla), lo multiplica por otro número (a), le suma otro número (c) y toma el resultado módulo de un tercer número (m). La fórmula se escribe así:\n",
    "\n",
    "Xn+1 = (aXn + c) % m\n",
    "\n",
    "En esta fórmula, Xn es el número anterior de la serie, Xn+1 es el siguiente número, a, c y m son números especiales que se eligen cuidadosamente para obtener una serie de números pseudoaleatorios que parezcan aleatorios.\n",
    "\n",
    "El generador de L'Ecuyer utiliza dos fórmulas lineales congruentes juntas para generar una serie de números. Cada fórmula tiene su propia semilla, a, c y m. Cuando las dos fórmulas se combinan, se crea una secuencia de números que parecen aleatorios.\n",
    "\n",
    "El generador de L'Ecuyer es una herramienta matemática que usa dos fórmulas llamadas generadores lineales congruentes para crear una serie de números pseudoaleatorios. Cada fórmula tiene su propia semilla, que es como un número de inicio. Cuando se combinan, las fórmulas crean una serie de números que parecen aleatorios.x"
   ]
  },
  {
   "cell_type": "markdown",
   "id": "a07054f5",
   "metadata": {},
   "source": [
    "Generador de L'Ecuyer\n",
    "\n",
    "El generador de L'Ecuyer utiliza dos GLC con parámetros cuidadosamente elegidos para garantizar que la secuencia resultante tenga propiedades estadísticas deseables, como una distribución uniforme y una correlación baja entre los números generados. Además, el generador de L'Ecuyer tiene un periodo largo, lo que significa que puede generar una gran cantidad de números pseudoaleatorios antes de que se repita la secuencia.\n",
    "\n",
    "La fórmula para el generador de L'Ecuyer es la siguiente:\n",
    "\n",
    "X[n+1] = (a * X[n] + c) % m\n",
    "\n",
    "Y[n+1] = (a * Y[n] + c) % m\n",
    "\n",
    "Z[n+1] = (X[n+1] - Y[n+1]) % m\n",
    "\n",
    "En esta fórmula, $X_n$ y $Y_n$ son los números anteriores de las dos series de GLC, $a_1$, $a_2$, $c_1$, $c_2$, $m_1$ y $m_2$ son los parámetros cuidadosamente elegidos y $Z_{n+1}$ es el número pseudoaleatorio resultante. La elección de los parámetros se realiza de manera que las secuencias de números generados tengan una buena calidad estadística.\n",
    "\n",
    "Conclusión\n",
    "En resumen, el generador de L'Ecuyer es un método para generar números pseudoaleatorios mediante la combinación de dos generadores lineales congruentes, que se basa en la elección cuidadosa de parámetros para garantizar propiedades estadísticas deseables. El generador de L'Ecuyer se utiliza en aplicaciones de simulación y optimización donde se requiere una secuencia de números pseudoaleatorios que parezcan aleatorios."
   ]
  },
  {
   "cell_type": "code",
   "execution_count": 32,
   "id": "3cbccbdf",
   "metadata": {
    "scrolled": true
   },
   "outputs": [],
   "source": [
    "import pandas as pd\n",
    "import random\n",
    "import matplotlib.pyplot as plt\n",
    "import numpy as np\n",
    "from scipy.stats import chi2\n",
    "import scipy.stats"
   ]
  },
  {
   "cell_type": "code",
   "execution_count": 8,
   "id": "3690aba4",
   "metadata": {},
   "outputs": [
    {
     "data": {
      "text/html": [
       "<div>\n",
       "<style scoped>\n",
       "    .dataframe tbody tr th:only-of-type {\n",
       "        vertical-align: middle;\n",
       "    }\n",
       "\n",
       "    .dataframe tbody tr th {\n",
       "        vertical-align: top;\n",
       "    }\n",
       "\n",
       "    .dataframe thead th {\n",
       "        text-align: right;\n",
       "    }\n",
       "</style>\n",
       "<table border=\"1\" class=\"dataframe\">\n",
       "  <thead>\n",
       "    <tr style=\"text-align: right;\">\n",
       "      <th></th>\n",
       "      <th>num</th>\n",
       "    </tr>\n",
       "  </thead>\n",
       "  <tbody>\n",
       "    <tr>\n",
       "      <th>0</th>\n",
       "      <td>1</td>\n",
       "    </tr>\n",
       "    <tr>\n",
       "      <th>1</th>\n",
       "      <td>2</td>\n",
       "    </tr>\n",
       "    <tr>\n",
       "      <th>2</th>\n",
       "      <td>3</td>\n",
       "    </tr>\n",
       "    <tr>\n",
       "      <th>3</th>\n",
       "      <td>4</td>\n",
       "    </tr>\n",
       "    <tr>\n",
       "      <th>4</th>\n",
       "      <td>5</td>\n",
       "    </tr>\n",
       "    <tr>\n",
       "      <th>...</th>\n",
       "      <td>...</td>\n",
       "    </tr>\n",
       "    <tr>\n",
       "      <th>495</th>\n",
       "      <td>496</td>\n",
       "    </tr>\n",
       "    <tr>\n",
       "      <th>496</th>\n",
       "      <td>497</td>\n",
       "    </tr>\n",
       "    <tr>\n",
       "      <th>497</th>\n",
       "      <td>498</td>\n",
       "    </tr>\n",
       "    <tr>\n",
       "      <th>498</th>\n",
       "      <td>499</td>\n",
       "    </tr>\n",
       "    <tr>\n",
       "      <th>499</th>\n",
       "      <td>500</td>\n",
       "    </tr>\n",
       "  </tbody>\n",
       "</table>\n",
       "<p>500 rows × 1 columns</p>\n",
       "</div>"
      ],
      "text/plain": [
       "     num\n",
       "0      1\n",
       "1      2\n",
       "2      3\n",
       "3      4\n",
       "4      5\n",
       "..   ...\n",
       "495  496\n",
       "496  497\n",
       "497  498\n",
       "498  499\n",
       "499  500\n",
       "\n",
       "[500 rows x 1 columns]"
      ]
     },
     "execution_count": 8,
     "metadata": {},
     "output_type": "execute_result"
    }
   ],
   "source": [
    "#Creamos la primera columna (i)\n",
    "col_i = pd.DataFrame({'num': range(1,501)})\n",
    "col_i"
   ]
  },
  {
   "cell_type": "code",
   "execution_count": 9,
   "id": "af71a910",
   "metadata": {},
   "outputs": [
    {
     "data": {
      "text/html": [
       "<div>\n",
       "<style scoped>\n",
       "    .dataframe tbody tr th:only-of-type {\n",
       "        vertical-align: middle;\n",
       "    }\n",
       "\n",
       "    .dataframe tbody tr th {\n",
       "        vertical-align: top;\n",
       "    }\n",
       "\n",
       "    .dataframe thead th {\n",
       "        text-align: right;\n",
       "    }\n",
       "</style>\n",
       "<table border=\"1\" class=\"dataframe\">\n",
       "  <thead>\n",
       "    <tr style=\"text-align: right;\">\n",
       "      <th></th>\n",
       "      <th>num</th>\n",
       "      <th>Ui</th>\n",
       "    </tr>\n",
       "  </thead>\n",
       "  <tbody>\n",
       "    <tr>\n",
       "      <th>0</th>\n",
       "      <td>1</td>\n",
       "      <td>0.190265</td>\n",
       "    </tr>\n",
       "    <tr>\n",
       "      <th>1</th>\n",
       "      <td>2</td>\n",
       "      <td>0.819632</td>\n",
       "    </tr>\n",
       "    <tr>\n",
       "      <th>2</th>\n",
       "      <td>3</td>\n",
       "      <td>0.325263</td>\n",
       "    </tr>\n",
       "    <tr>\n",
       "      <th>3</th>\n",
       "      <td>4</td>\n",
       "      <td>0.550550</td>\n",
       "    </tr>\n",
       "    <tr>\n",
       "      <th>4</th>\n",
       "      <td>5</td>\n",
       "      <td>0.814482</td>\n",
       "    </tr>\n",
       "    <tr>\n",
       "      <th>...</th>\n",
       "      <td>...</td>\n",
       "      <td>...</td>\n",
       "    </tr>\n",
       "    <tr>\n",
       "      <th>495</th>\n",
       "      <td>496</td>\n",
       "      <td>0.773964</td>\n",
       "    </tr>\n",
       "    <tr>\n",
       "      <th>496</th>\n",
       "      <td>497</td>\n",
       "      <td>0.419321</td>\n",
       "    </tr>\n",
       "    <tr>\n",
       "      <th>497</th>\n",
       "      <td>498</td>\n",
       "      <td>0.499813</td>\n",
       "    </tr>\n",
       "    <tr>\n",
       "      <th>498</th>\n",
       "      <td>499</td>\n",
       "      <td>0.451127</td>\n",
       "    </tr>\n",
       "    <tr>\n",
       "      <th>499</th>\n",
       "      <td>500</td>\n",
       "      <td>0.932597</td>\n",
       "    </tr>\n",
       "  </tbody>\n",
       "</table>\n",
       "<p>500 rows × 2 columns</p>\n",
       "</div>"
      ],
      "text/plain": [
       "     num        Ui\n",
       "0      1  0.190265\n",
       "1      2  0.819632\n",
       "2      3  0.325263\n",
       "3      4  0.550550\n",
       "4      5  0.814482\n",
       "..   ...       ...\n",
       "495  496  0.773964\n",
       "496  497  0.419321\n",
       "497  498  0.499813\n",
       "498  499  0.451127\n",
       "499  500  0.932597\n",
       "\n",
       "[500 rows x 2 columns]"
      ]
     },
     "execution_count": 9,
     "metadata": {},
     "output_type": "execute_result"
    }
   ],
   "source": [
    "#Columna 2 (Ui), número aleatorio uniforme entre 0 y 1\n",
    "\n",
    "ui = [random.uniform(0,1)for i in range(500)]\n",
    "tabla = pd.DataFrame(col_i)\n",
    "tabla ['Ui'] = ui \n",
    "tabla"
   ]
  },
  {
   "cell_type": "code",
   "execution_count": 10,
   "id": "77015011",
   "metadata": {},
   "outputs": [
    {
     "data": {
      "image/png": "[encoded data removed]",
      "text/plain": [
       "<Figure size 640x480 with 1 Axes>"
      ]
     },
     "metadata": {},
     "output_type": "display_data"
    }
   ],
   "source": [
    "#Revisamos que tan uniforme fue el ejercicio anterior ploteandolo\n",
    "\n",
    "plt.hist(ui)\n",
    "plt.show()"
   ]
  },
  {
   "cell_type": "code",
   "execution_count": 11,
   "id": "3f19b14f",
   "metadata": {},
   "outputs": [
    {
     "data": {
      "text/html": [
       "<div>\n",
       "<style scoped>\n",
       "    .dataframe tbody tr th:only-of-type {\n",
       "        vertical-align: middle;\n",
       "    }\n",
       "\n",
       "    .dataframe tbody tr th {\n",
       "        vertical-align: top;\n",
       "    }\n",
       "\n",
       "    .dataframe thead th {\n",
       "        text-align: right;\n",
       "    }\n",
       "</style>\n",
       "<table border=\"1\" class=\"dataframe\">\n",
       "  <thead>\n",
       "    <tr style=\"text-align: right;\">\n",
       "      <th></th>\n",
       "      <th>Limite inferior</th>\n",
       "      <th>Limite superior</th>\n",
       "    </tr>\n",
       "  </thead>\n",
       "  <tbody>\n",
       "    <tr>\n",
       "      <th>0</th>\n",
       "      <td>0.00</td>\n",
       "      <td>0.01</td>\n",
       "    </tr>\n",
       "    <tr>\n",
       "      <th>1</th>\n",
       "      <td>0.01</td>\n",
       "      <td>0.02</td>\n",
       "    </tr>\n",
       "    <tr>\n",
       "      <th>2</th>\n",
       "      <td>0.02</td>\n",
       "      <td>0.03</td>\n",
       "    </tr>\n",
       "    <tr>\n",
       "      <th>3</th>\n",
       "      <td>0.03</td>\n",
       "      <td>0.04</td>\n",
       "    </tr>\n",
       "    <tr>\n",
       "      <th>4</th>\n",
       "      <td>0.04</td>\n",
       "      <td>0.05</td>\n",
       "    </tr>\n",
       "    <tr>\n",
       "      <th>...</th>\n",
       "      <td>...</td>\n",
       "      <td>...</td>\n",
       "    </tr>\n",
       "    <tr>\n",
       "      <th>95</th>\n",
       "      <td>0.95</td>\n",
       "      <td>0.96</td>\n",
       "    </tr>\n",
       "    <tr>\n",
       "      <th>96</th>\n",
       "      <td>0.96</td>\n",
       "      <td>0.97</td>\n",
       "    </tr>\n",
       "    <tr>\n",
       "      <th>97</th>\n",
       "      <td>0.97</td>\n",
       "      <td>0.98</td>\n",
       "    </tr>\n",
       "    <tr>\n",
       "      <th>98</th>\n",
       "      <td>0.98</td>\n",
       "      <td>0.99</td>\n",
       "    </tr>\n",
       "    <tr>\n",
       "      <th>99</th>\n",
       "      <td>0.99</td>\n",
       "      <td>1.00</td>\n",
       "    </tr>\n",
       "  </tbody>\n",
       "</table>\n",
       "<p>100 rows × 2 columns</p>\n",
       "</div>"
      ],
      "text/plain": [
       "    Limite inferior  Limite superior\n",
       "0              0.00             0.01\n",
       "1              0.01             0.02\n",
       "2              0.02             0.03\n",
       "3              0.03             0.04\n",
       "4              0.04             0.05\n",
       "..              ...              ...\n",
       "95             0.95             0.96\n",
       "96             0.96             0.97\n",
       "97             0.97             0.98\n",
       "98             0.98             0.99\n",
       "99             0.99             1.00\n",
       "\n",
       "[100 rows x 2 columns]"
      ]
     },
     "execution_count": 11,
     "metadata": {},
     "output_type": "execute_result"
    }
   ],
   "source": [
    "#Agregamos columna de limite inferior y superiorior\n",
    "\n",
    "lim_inf = []\n",
    "lim_sup = []\n",
    "\n",
    "for i in range(100):                  #solo debe de haber 100 intervalos\n",
    "    inferior = i/100\n",
    "    superior = (inferior + .01)\n",
    "    lim_inf.append(inferior)\n",
    "    lim_sup.append(superior)\n",
    "\n",
    "limites = pd.DataFrame({'Limite inferior' : lim_inf,\n",
    "                        'Limite superior' : lim_sup})\n",
    "\n",
    "limites"
   ]
  },
  {
   "cell_type": "code",
   "execution_count": 18,
   "id": "a8a4fdb5",
   "metadata": {},
   "outputs": [
    {
     "data": {
      "text/html": [
       "<div>\n",
       "<style scoped>\n",
       "    .dataframe tbody tr th:only-of-type {\n",
       "        vertical-align: middle;\n",
       "    }\n",
       "\n",
       "    .dataframe tbody tr th {\n",
       "        vertical-align: top;\n",
       "    }\n",
       "\n",
       "    .dataframe thead th {\n",
       "        text-align: right;\n",
       "    }\n",
       "</style>\n",
       "<table border=\"1\" class=\"dataframe\">\n",
       "  <thead>\n",
       "    <tr style=\"text-align: right;\">\n",
       "      <th></th>\n",
       "      <th>num</th>\n",
       "      <th>Ui</th>\n",
       "      <th>Limite inferior</th>\n",
       "      <th>Limite superior</th>\n",
       "    </tr>\n",
       "  </thead>\n",
       "  <tbody>\n",
       "    <tr>\n",
       "      <th>95</th>\n",
       "      <td>96</td>\n",
       "      <td>0.564393</td>\n",
       "      <td>0.95</td>\n",
       "      <td>0.96</td>\n",
       "    </tr>\n",
       "    <tr>\n",
       "      <th>96</th>\n",
       "      <td>97</td>\n",
       "      <td>0.378956</td>\n",
       "      <td>0.96</td>\n",
       "      <td>0.97</td>\n",
       "    </tr>\n",
       "    <tr>\n",
       "      <th>97</th>\n",
       "      <td>98</td>\n",
       "      <td>0.114644</td>\n",
       "      <td>0.97</td>\n",
       "      <td>0.98</td>\n",
       "    </tr>\n",
       "    <tr>\n",
       "      <th>98</th>\n",
       "      <td>99</td>\n",
       "      <td>0.883786</td>\n",
       "      <td>0.98</td>\n",
       "      <td>0.99</td>\n",
       "    </tr>\n",
       "    <tr>\n",
       "      <th>99</th>\n",
       "      <td>100</td>\n",
       "      <td>0.553978</td>\n",
       "      <td>0.99</td>\n",
       "      <td>1.00</td>\n",
       "    </tr>\n",
       "    <tr>\n",
       "      <th>100</th>\n",
       "      <td>101</td>\n",
       "      <td>0.415082</td>\n",
       "      <td>NaN</td>\n",
       "      <td>NaN</td>\n",
       "    </tr>\n",
       "    <tr>\n",
       "      <th>101</th>\n",
       "      <td>102</td>\n",
       "      <td>0.517139</td>\n",
       "      <td>NaN</td>\n",
       "      <td>NaN</td>\n",
       "    </tr>\n",
       "    <tr>\n",
       "      <th>102</th>\n",
       "      <td>103</td>\n",
       "      <td>0.098966</td>\n",
       "      <td>NaN</td>\n",
       "      <td>NaN</td>\n",
       "    </tr>\n",
       "    <tr>\n",
       "      <th>103</th>\n",
       "      <td>104</td>\n",
       "      <td>0.801246</td>\n",
       "      <td>NaN</td>\n",
       "      <td>NaN</td>\n",
       "    </tr>\n",
       "    <tr>\n",
       "      <th>104</th>\n",
       "      <td>105</td>\n",
       "      <td>0.002528</td>\n",
       "      <td>NaN</td>\n",
       "      <td>NaN</td>\n",
       "    </tr>\n",
       "  </tbody>\n",
       "</table>\n",
       "</div>"
      ],
      "text/plain": [
       "     num        Ui  Limite inferior  Limite superior\n",
       "95    96  0.564393             0.95             0.96\n",
       "96    97  0.378956             0.96             0.97\n",
       "97    98  0.114644             0.97             0.98\n",
       "98    99  0.883786             0.98             0.99\n",
       "99   100  0.553978             0.99             1.00\n",
       "100  101  0.415082              NaN              NaN\n",
       "101  102  0.517139              NaN              NaN\n",
       "102  103  0.098966              NaN              NaN\n",
       "103  104  0.801246              NaN              NaN\n",
       "104  105  0.002528              NaN              NaN"
      ]
     },
     "execution_count": 18,
     "metadata": {},
     "output_type": "execute_result"
    }
   ],
   "source": [
    "tabla ['Limite inferior'] = limites['Limite inferior']\n",
    "tabla ['Limite superior'] = limites['Limite superior']\n",
    "tabla[95:105]"
   ]
  },
  {
   "cell_type": "code",
   "execution_count": 19,
   "id": "0cb64d57",
   "metadata": {},
   "outputs": [
    {
     "data": {
      "text/plain": [
       "array([ 8,  4,  4,  0,  9,  5,  5,  4,  6,  3,  7,  3,  3, 12,  5,  3,  0,\n",
       "        5,  9,  6,  3,  4,  8,  4,  3,  2,  7,  2,  3,  1,  5,  4,  4,  4,\n",
       "        3,  4,  9,  9,  4,  4,  6,  6,  5,  6,  5,  3,  0,  4,  5,  6,  4,\n",
       "       14,  6,  6,  4,  7,  8,  6,  5,  4,  8,  3,  8,  5,  5,  6,  4,  6,\n",
       "        5,  1,  2,  5,  5,  6,  6,  2, 10,  6,  4,  4,  7,  4,  8,  5,  5,\n",
       "        3,  3,  3,  4,  4,  7,  6,  5,  7,  7,  5, 10,  1,  2,  5],\n",
       "      dtype=int64)"
      ]
     },
     "execution_count": 19,
     "metadata": {},
     "output_type": "execute_result"
    }
   ],
   "source": [
    "#Esta función de numpy nos retorna el conteo de nuestros números aleatorios ó fecuencia (fi) por cada intervalo\n",
    "fi, intervals = np.histogram(ui, range=(0,1), bins=100)    \n",
    "fi"
   ]
  },
  {
   "cell_type": "code",
   "execution_count": 22,
   "id": "53ca14e3",
   "metadata": {},
   "outputs": [
    {
     "data": {
      "text/html": [
       "<div>\n",
       "<style scoped>\n",
       "    .dataframe tbody tr th:only-of-type {\n",
       "        vertical-align: middle;\n",
       "    }\n",
       "\n",
       "    .dataframe tbody tr th {\n",
       "        vertical-align: top;\n",
       "    }\n",
       "\n",
       "    .dataframe thead th {\n",
       "        text-align: right;\n",
       "    }\n",
       "</style>\n",
       "<table border=\"1\" class=\"dataframe\">\n",
       "  <thead>\n",
       "    <tr style=\"text-align: right;\">\n",
       "      <th></th>\n",
       "      <th>num</th>\n",
       "      <th>Ui</th>\n",
       "      <th>Limite inferior</th>\n",
       "      <th>Limite superior</th>\n",
       "      <th>fi</th>\n",
       "    </tr>\n",
       "  </thead>\n",
       "  <tbody>\n",
       "    <tr>\n",
       "      <th>0</th>\n",
       "      <td>1</td>\n",
       "      <td>0.190265</td>\n",
       "      <td>0.00</td>\n",
       "      <td>0.01</td>\n",
       "      <td>8.0</td>\n",
       "    </tr>\n",
       "    <tr>\n",
       "      <th>1</th>\n",
       "      <td>2</td>\n",
       "      <td>0.819632</td>\n",
       "      <td>0.01</td>\n",
       "      <td>0.02</td>\n",
       "      <td>4.0</td>\n",
       "    </tr>\n",
       "    <tr>\n",
       "      <th>2</th>\n",
       "      <td>3</td>\n",
       "      <td>0.325263</td>\n",
       "      <td>0.02</td>\n",
       "      <td>0.03</td>\n",
       "      <td>4.0</td>\n",
       "    </tr>\n",
       "    <tr>\n",
       "      <th>3</th>\n",
       "      <td>4</td>\n",
       "      <td>0.550550</td>\n",
       "      <td>0.03</td>\n",
       "      <td>0.04</td>\n",
       "      <td>0.0</td>\n",
       "    </tr>\n",
       "    <tr>\n",
       "      <th>4</th>\n",
       "      <td>5</td>\n",
       "      <td>0.814482</td>\n",
       "      <td>0.04</td>\n",
       "      <td>0.05</td>\n",
       "      <td>9.0</td>\n",
       "    </tr>\n",
       "    <tr>\n",
       "      <th>...</th>\n",
       "      <td>...</td>\n",
       "      <td>...</td>\n",
       "      <td>...</td>\n",
       "      <td>...</td>\n",
       "      <td>...</td>\n",
       "    </tr>\n",
       "    <tr>\n",
       "      <th>495</th>\n",
       "      <td>496</td>\n",
       "      <td>0.773964</td>\n",
       "      <td>NaN</td>\n",
       "      <td>NaN</td>\n",
       "      <td>NaN</td>\n",
       "    </tr>\n",
       "    <tr>\n",
       "      <th>496</th>\n",
       "      <td>497</td>\n",
       "      <td>0.419321</td>\n",
       "      <td>NaN</td>\n",
       "      <td>NaN</td>\n",
       "      <td>NaN</td>\n",
       "    </tr>\n",
       "    <tr>\n",
       "      <th>497</th>\n",
       "      <td>498</td>\n",
       "      <td>0.499813</td>\n",
       "      <td>NaN</td>\n",
       "      <td>NaN</td>\n",
       "      <td>NaN</td>\n",
       "    </tr>\n",
       "    <tr>\n",
       "      <th>498</th>\n",
       "      <td>499</td>\n",
       "      <td>0.451127</td>\n",
       "      <td>NaN</td>\n",
       "      <td>NaN</td>\n",
       "      <td>NaN</td>\n",
       "    </tr>\n",
       "    <tr>\n",
       "      <th>499</th>\n",
       "      <td>500</td>\n",
       "      <td>0.932597</td>\n",
       "      <td>NaN</td>\n",
       "      <td>NaN</td>\n",
       "      <td>NaN</td>\n",
       "    </tr>\n",
       "  </tbody>\n",
       "</table>\n",
       "<p>500 rows × 5 columns</p>\n",
       "</div>"
      ],
      "text/plain": [
       "     num        Ui  Limite inferior  Limite superior   fi\n",
       "0      1  0.190265             0.00             0.01  8.0\n",
       "1      2  0.819632             0.01             0.02  4.0\n",
       "2      3  0.325263             0.02             0.03  4.0\n",
       "3      4  0.550550             0.03             0.04  0.0\n",
       "4      5  0.814482             0.04             0.05  9.0\n",
       "..   ...       ...              ...              ...  ...\n",
       "495  496  0.773964              NaN              NaN  NaN\n",
       "496  497  0.419321              NaN              NaN  NaN\n",
       "497  498  0.499813              NaN              NaN  NaN\n",
       "498  499  0.451127              NaN              NaN  NaN\n",
       "499  500  0.932597              NaN              NaN  NaN\n",
       "\n",
       "[500 rows x 5 columns]"
      ]
     },
     "execution_count": 22,
     "metadata": {},
     "output_type": "execute_result"
    }
   ],
   "source": [
    "tabla['fi'] = pd.DataFrame({'fi':fi})\n",
    "tabla"
   ]
  },
  {
   "cell_type": "code",
   "execution_count": 26,
   "id": "fe381fe1",
   "metadata": {},
   "outputs": [
    {
     "data": {
      "text/plain": [
       "5.0"
      ]
     },
     "execution_count": 26,
     "metadata": {},
     "output_type": "execute_result"
    }
   ],
   "source": [
    "#Entonces en el ejemplo anterior:\n",
    "n = 500 #escenarios\n",
    "k = 100 #intervalos\n",
    "\n",
    "n_k= n/k\n",
    "n_k"
   ]
  },
  {
   "cell_type": "markdown",
   "id": "93bffd38",
   "metadata": {},
   "source": [
    "Recordemos que para l'ecuyer y que sea viable, existe la siguiente condición:\n",
    "\n",
    "k >= 100\n",
    "\n",
    "n/k >=5"
   ]
  },
  {
   "cell_type": "markdown",
   "id": "fb4623db",
   "metadata": {},
   "source": [
    "n/k= nos dice el promedio que deberían caer por cada sub intervalo, es decir por cada subintervalo deberían caer de manera uniforme 5 por cada uno.\n",
    "Esto nos ayuda a ver que tan bueno es el generador y uniforme"
   ]
  },
  {
   "cell_type": "markdown",
   "id": "de9427fa",
   "metadata": {},
   "source": [
    "En el caso del presente generador, entonces, nos indicaría que no es bueno al tener más de 400 escenarios cargados en un solo intervalo."
   ]
  },
  {
   "cell_type": "markdown",
   "id": "5ffe8011",
   "metadata": {},
   "source": [
    "PARA CALCULAR LA FRECUENCIA (ESPERADA) DE NUESTRO GENERADOR:"
   ]
  },
  {
   "cell_type": "markdown",
   "id": "3d0789cb",
   "metadata": {},
   "source": [
    "($f_i$ - n/k)**2"
   ]
  },
  {
   "cell_type": "code",
   "execution_count": 27,
   "id": "bb2cec90",
   "metadata": {},
   "outputs": [
    {
     "data": {
      "text/html": [
       "<div>\n",
       "<style scoped>\n",
       "    .dataframe tbody tr th:only-of-type {\n",
       "        vertical-align: middle;\n",
       "    }\n",
       "\n",
       "    .dataframe tbody tr th {\n",
       "        vertical-align: top;\n",
       "    }\n",
       "\n",
       "    .dataframe thead th {\n",
       "        text-align: right;\n",
       "    }\n",
       "</style>\n",
       "<table border=\"1\" class=\"dataframe\">\n",
       "  <thead>\n",
       "    <tr style=\"text-align: right;\">\n",
       "      <th></th>\n",
       "      <th>num</th>\n",
       "      <th>Ui</th>\n",
       "      <th>Limite inferior</th>\n",
       "      <th>Limite superior</th>\n",
       "      <th>fi</th>\n",
       "      <th>Frecuencia esperada</th>\n",
       "    </tr>\n",
       "  </thead>\n",
       "  <tbody>\n",
       "    <tr>\n",
       "      <th>0</th>\n",
       "      <td>1</td>\n",
       "      <td>0.190265</td>\n",
       "      <td>0.00</td>\n",
       "      <td>0.01</td>\n",
       "      <td>8.0</td>\n",
       "      <td>9.0</td>\n",
       "    </tr>\n",
       "    <tr>\n",
       "      <th>1</th>\n",
       "      <td>2</td>\n",
       "      <td>0.819632</td>\n",
       "      <td>0.01</td>\n",
       "      <td>0.02</td>\n",
       "      <td>4.0</td>\n",
       "      <td>1.0</td>\n",
       "    </tr>\n",
       "    <tr>\n",
       "      <th>2</th>\n",
       "      <td>3</td>\n",
       "      <td>0.325263</td>\n",
       "      <td>0.02</td>\n",
       "      <td>0.03</td>\n",
       "      <td>4.0</td>\n",
       "      <td>1.0</td>\n",
       "    </tr>\n",
       "    <tr>\n",
       "      <th>3</th>\n",
       "      <td>4</td>\n",
       "      <td>0.550550</td>\n",
       "      <td>0.03</td>\n",
       "      <td>0.04</td>\n",
       "      <td>0.0</td>\n",
       "      <td>25.0</td>\n",
       "    </tr>\n",
       "    <tr>\n",
       "      <th>4</th>\n",
       "      <td>5</td>\n",
       "      <td>0.814482</td>\n",
       "      <td>0.04</td>\n",
       "      <td>0.05</td>\n",
       "      <td>9.0</td>\n",
       "      <td>16.0</td>\n",
       "    </tr>\n",
       "    <tr>\n",
       "      <th>...</th>\n",
       "      <td>...</td>\n",
       "      <td>...</td>\n",
       "      <td>...</td>\n",
       "      <td>...</td>\n",
       "      <td>...</td>\n",
       "      <td>...</td>\n",
       "    </tr>\n",
       "    <tr>\n",
       "      <th>495</th>\n",
       "      <td>496</td>\n",
       "      <td>0.773964</td>\n",
       "      <td>NaN</td>\n",
       "      <td>NaN</td>\n",
       "      <td>NaN</td>\n",
       "      <td>NaN</td>\n",
       "    </tr>\n",
       "    <tr>\n",
       "      <th>496</th>\n",
       "      <td>497</td>\n",
       "      <td>0.419321</td>\n",
       "      <td>NaN</td>\n",
       "      <td>NaN</td>\n",
       "      <td>NaN</td>\n",
       "      <td>NaN</td>\n",
       "    </tr>\n",
       "    <tr>\n",
       "      <th>497</th>\n",
       "      <td>498</td>\n",
       "      <td>0.499813</td>\n",
       "      <td>NaN</td>\n",
       "      <td>NaN</td>\n",
       "      <td>NaN</td>\n",
       "      <td>NaN</td>\n",
       "    </tr>\n",
       "    <tr>\n",
       "      <th>498</th>\n",
       "      <td>499</td>\n",
       "      <td>0.451127</td>\n",
       "      <td>NaN</td>\n",
       "      <td>NaN</td>\n",
       "      <td>NaN</td>\n",
       "      <td>NaN</td>\n",
       "    </tr>\n",
       "    <tr>\n",
       "      <th>499</th>\n",
       "      <td>500</td>\n",
       "      <td>0.932597</td>\n",
       "      <td>NaN</td>\n",
       "      <td>NaN</td>\n",
       "      <td>NaN</td>\n",
       "      <td>NaN</td>\n",
       "    </tr>\n",
       "  </tbody>\n",
       "</table>\n",
       "<p>500 rows × 6 columns</p>\n",
       "</div>"
      ],
      "text/plain": [
       "     num        Ui  Limite inferior  Limite superior   fi  Frecuencia esperada\n",
       "0      1  0.190265             0.00             0.01  8.0                  9.0\n",
       "1      2  0.819632             0.01             0.02  4.0                  1.0\n",
       "2      3  0.325263             0.02             0.03  4.0                  1.0\n",
       "3      4  0.550550             0.03             0.04  0.0                 25.0\n",
       "4      5  0.814482             0.04             0.05  9.0                 16.0\n",
       "..   ...       ...              ...              ...  ...                  ...\n",
       "495  496  0.773964              NaN              NaN  NaN                  NaN\n",
       "496  497  0.419321              NaN              NaN  NaN                  NaN\n",
       "497  498  0.499813              NaN              NaN  NaN                  NaN\n",
       "498  499  0.451127              NaN              NaN  NaN                  NaN\n",
       "499  500  0.932597              NaN              NaN  NaN                  NaN\n",
       "\n",
       "[500 rows x 6 columns]"
      ]
     },
     "execution_count": 27,
     "metadata": {},
     "output_type": "execute_result"
    }
   ],
   "source": [
    "#Calculamos la frecuencia esperada o desviaciones, lo ideal es que todas fueran 0:\n",
    "\n",
    "fq_esp = []\n",
    "\n",
    "for i in range(500):\n",
    "    fq = ((tabla.loc[i,'fi'] - n_k)**2)\n",
    "    fq_esp.append(fq)\n",
    "\n",
    "tabla ['Frecuencia esperada'] = fq_esp\n",
    "tabla"
   ]
  },
  {
   "cell_type": "markdown",
   "id": "5ab9c77c",
   "metadata": {},
   "source": [
    "### Estadistico de prueba"
   ]
  },
  {
   "cell_type": "code",
   "execution_count": 28,
   "id": "40ae1031",
   "metadata": {},
   "outputs": [
    {
     "data": {
      "text/plain": [
       "116.4"
      ]
     },
     "execution_count": 28,
     "metadata": {},
     "output_type": "execute_result"
    }
   ],
   "source": [
    "#sum(tabla['Frecuencia esperada'])*n/k\n",
    "\n",
    "est_pru = ((tabla['Frecuencia esperada'].sum())/n_k)\n",
    "est_pru"
   ]
  },
  {
   "cell_type": "markdown",
   "id": "9766bd03",
   "metadata": {},
   "source": [
    "### Grados de libertad"
   ]
  },
  {
   "cell_type": "code",
   "execution_count": 30,
   "id": "3691c3d6",
   "metadata": {},
   "outputs": [
    {
     "data": {
      "text/plain": [
       "99"
      ]
     },
     "execution_count": 30,
     "metadata": {},
     "output_type": "execute_result"
    }
   ],
   "source": [
    "grad = k-1\n",
    "grad"
   ]
  },
  {
   "cell_type": "markdown",
   "id": "7d60b346",
   "metadata": {},
   "source": [
    "### Nivel alpha"
   ]
  },
  {
   "cell_type": "code",
   "execution_count": 29,
   "id": "b8a82770",
   "metadata": {},
   "outputs": [
    {
     "data": {
      "text/plain": [
       "100"
      ]
     },
     "execution_count": 29,
     "metadata": {},
     "output_type": "execute_result"
    }
   ],
   "source": [
    "alpha = .05"
   ]
  },
  {
   "cell_type": "code",
   "execution_count": 45,
   "id": "dbb1c131",
   "metadata": {},
   "outputs": [
    {
     "data": {
      "text/plain": [
       "123.22522145336181"
      ]
     },
     "execution_count": 45,
     "metadata": {},
     "output_type": "execute_result"
    }
   ],
   "source": [
    "chi_cuadrada = scipy.stats.chi2.isf(q=alpha, df=grad)\n",
    "chi_cuadrada"
   ]
  },
  {
   "cell_type": "code",
   "execution_count": 44,
   "id": "40a50a48",
   "metadata": {},
   "outputs": [
    {
     "data": {
      "image/png": "[encoded data removed]",
      "text/plain": [
       "<Figure size 640x480 with 1 Axes>"
      ]
     },
     "metadata": {},
     "output_type": "display_data"
    }
   ],
   "source": [
    "import matplotlib.pyplot as plt\n",
    "import scipy.stats as stats\n",
    "\n",
    "x = np.linspace(40,150,1000)\n",
    "\n",
    "pdf = stats.chi2.pdf(x, df=grad)\n",
    "\n",
    "plt.plot(x, pdf)\n",
    "plt.axvline(x=chi_cuadrada)\n",
    "plt.axvline(x=est_pru, c='r')\n",
    "plt.xlim(50,150)\n",
    "plt.xlabel('X')\n",
    "plt.ylabel('Probability density')\n",
    "plt.title('Chi-Square Distribution (df = 99)')\n",
    "plt.show()\n"
   ]
  },
  {
   "cell_type": "markdown",
   "id": "1644f664",
   "metadata": {},
   "source": [
    "### El estatidisco de prueba (116.4) es menor que la chi cuadrada con 99 grados de libertad y un alpha de 0.05 (123.22). Se puede decir que nuestra distribucón de numeros aleatorios es uniforme al pasar la prueba de la chi cuadrada"
   ]
  },
  {
   "cell_type": "code",
   "execution_count": null,
   "id": "ebb13ed0",
   "metadata": {},
   "outputs": [],
   "source": []
  },
  {
   "cell_type": "markdown",
   "id": "7f7de855",
   "metadata": {},
   "source": [
    "HO: Los números son uniformes (0,1)\n",
    "\n",
    "Ha: Los números NO son uniformes\n",
    "    \n",
    "En este caso no podemos rechazar la Ho"
   ]
  }
 ],
 "metadata": {
  "kernelspec": {
   "display_name": "Python 3 (ipykernel)",
   "language": "python",
   "name": "python3"
  },
  "language_info": {
   "codemirror_mode": {
    "name": "ipython",
    "version": 3
   },
   "file_extension": ".py",
   "mimetype": "text/x-python",
   "name": "python",
   "nbconvert_exporter": "python",
   "pygments_lexer": "ipython3",
   "version": "3.9.13"
  }
 },
 "nbformat": 4,
 "nbformat_minor": 5
}
